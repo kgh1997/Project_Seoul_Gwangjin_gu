{
 "cells": [
  {
   "cell_type": "code",
   "execution_count": 158,
   "metadata": {},
   "outputs": [
    {
     "data": {
      "text/html": [
       "<div>\n",
       "<style scoped>\n",
       "    .dataframe tbody tr th:only-of-type {\n",
       "        vertical-align: middle;\n",
       "    }\n",
       "\n",
       "    .dataframe tbody tr th {\n",
       "        vertical-align: top;\n",
       "    }\n",
       "\n",
       "    .dataframe thead th {\n",
       "        text-align: right;\n",
       "    }\n",
       "</style>\n",
       "<table border=\"1\" class=\"dataframe\">\n",
       "  <thead>\n",
       "    <tr style=\"text-align: right;\">\n",
       "      <th></th>\n",
       "      <th>인구밀도</th>\n",
       "      <th>총 사업체수</th>\n",
       "      <th>반경 1km 이내 불법주정차 단속 수</th>\n",
       "      <th>토지면적</th>\n",
       "      <th>공시지가_기준년월</th>\n",
       "      <th>공시지가(원/면적)</th>\n",
       "      <th>역과의최단거리</th>\n",
       "      <th>반경 1km 이내 주차장수</th>\n",
       "    </tr>\n",
       "    <tr>\n",
       "      <th>지번주소</th>\n",
       "      <th></th>\n",
       "      <th></th>\n",
       "      <th></th>\n",
       "      <th></th>\n",
       "      <th></th>\n",
       "      <th></th>\n",
       "      <th></th>\n",
       "      <th></th>\n",
       "    </tr>\n",
       "  </thead>\n",
       "  <tbody>\n",
       "    <tr>\n",
       "      <th>서울특별시 광진구 광장동  102</th>\n",
       "      <td>8.86329</td>\n",
       "      <td>4.91265</td>\n",
       "      <td>0.69315</td>\n",
       "      <td>7.70156</td>\n",
       "      <td>1.38629</td>\n",
       "      <td>15.65986</td>\n",
       "      <td>7.04229</td>\n",
       "      <td>3.71357</td>\n",
       "    </tr>\n",
       "    <tr>\n",
       "      <th>서울특별시 광진구 광장동  104</th>\n",
       "      <td>8.86329</td>\n",
       "      <td>4.91265</td>\n",
       "      <td>0.69315</td>\n",
       "      <td>5.14808</td>\n",
       "      <td>1.60944</td>\n",
       "      <td>15.44416</td>\n",
       "      <td>7.06133</td>\n",
       "      <td>3.71357</td>\n",
       "    </tr>\n",
       "    <tr>\n",
       "      <th>서울특별시 광진구 광장동  105</th>\n",
       "      <td>8.86329</td>\n",
       "      <td>4.91265</td>\n",
       "      <td>0.69315</td>\n",
       "      <td>6.74382</td>\n",
       "      <td>1.38629</td>\n",
       "      <td>15.46455</td>\n",
       "      <td>6.97354</td>\n",
       "      <td>3.71357</td>\n",
       "    </tr>\n",
       "    <tr>\n",
       "      <th>서울특별시 광진구 광장동  106</th>\n",
       "      <td>8.86329</td>\n",
       "      <td>4.91265</td>\n",
       "      <td>0.69315</td>\n",
       "      <td>6.11545</td>\n",
       "      <td>1.38629</td>\n",
       "      <td>15.44416</td>\n",
       "      <td>6.94505</td>\n",
       "      <td>3.71357</td>\n",
       "    </tr>\n",
       "    <tr>\n",
       "      <th>서울특별시 광진구 광장동  107</th>\n",
       "      <td>8.86329</td>\n",
       "      <td>4.91265</td>\n",
       "      <td>0.69315</td>\n",
       "      <td>6.00117</td>\n",
       "      <td>1.38629</td>\n",
       "      <td>15.57216</td>\n",
       "      <td>6.91870</td>\n",
       "      <td>3.73767</td>\n",
       "    </tr>\n",
       "    <tr>\n",
       "      <th>...</th>\n",
       "      <td>...</td>\n",
       "      <td>...</td>\n",
       "      <td>...</td>\n",
       "      <td>...</td>\n",
       "      <td>...</td>\n",
       "      <td>...</td>\n",
       "      <td>...</td>\n",
       "      <td>...</td>\n",
       "    </tr>\n",
       "    <tr>\n",
       "      <th>서울특별시 광진구 화양동  95-5</th>\n",
       "      <td>10.86601</td>\n",
       "      <td>3.78419</td>\n",
       "      <td>3.33220</td>\n",
       "      <td>5.02388</td>\n",
       "      <td>1.38629</td>\n",
       "      <td>15.28477</td>\n",
       "      <td>6.44572</td>\n",
       "      <td>4.31749</td>\n",
       "    </tr>\n",
       "    <tr>\n",
       "      <th>서울특별시 광진구 화양동  96-2</th>\n",
       "      <td>10.86601</td>\n",
       "      <td>3.78419</td>\n",
       "      <td>3.43399</td>\n",
       "      <td>5.10595</td>\n",
       "      <td>1.38629</td>\n",
       "      <td>15.28477</td>\n",
       "      <td>6.44572</td>\n",
       "      <td>4.31749</td>\n",
       "    </tr>\n",
       "    <tr>\n",
       "      <th>서울특별시 광진구 화양동  97</th>\n",
       "      <td>10.86601</td>\n",
       "      <td>3.78419</td>\n",
       "      <td>3.33220</td>\n",
       "      <td>5.23644</td>\n",
       "      <td>1.38629</td>\n",
       "      <td>15.44377</td>\n",
       "      <td>6.45047</td>\n",
       "      <td>4.30407</td>\n",
       "    </tr>\n",
       "    <tr>\n",
       "      <th>서울특별시 광진구 화양동  98-1</th>\n",
       "      <td>10.86601</td>\n",
       "      <td>3.78419</td>\n",
       "      <td>3.33220</td>\n",
       "      <td>5.70044</td>\n",
       "      <td>1.38629</td>\n",
       "      <td>15.44377</td>\n",
       "      <td>6.47235</td>\n",
       "      <td>4.29046</td>\n",
       "    </tr>\n",
       "    <tr>\n",
       "      <th>서울특별시 광진구 화양동  99</th>\n",
       "      <td>10.86601</td>\n",
       "      <td>3.78419</td>\n",
       "      <td>3.25810</td>\n",
       "      <td>5.75257</td>\n",
       "      <td>1.38629</td>\n",
       "      <td>15.39387</td>\n",
       "      <td>6.52209</td>\n",
       "      <td>4.30407</td>\n",
       "    </tr>\n",
       "  </tbody>\n",
       "</table>\n",
       "<p>21657 rows × 8 columns</p>\n",
       "</div>"
      ],
      "text/plain": [
       "                        인구밀도  총 사업체수  반경 1km 이내 불법주정차 단속 수    토지면적  공시지가_기준년월  \\\n",
       "지번주소                                                                            \n",
       "서울특별시 광진구 광장동  102   8.86329 4.91265               0.69315 7.70156    1.38629   \n",
       "서울특별시 광진구 광장동  104   8.86329 4.91265               0.69315 5.14808    1.60944   \n",
       "서울특별시 광진구 광장동  105   8.86329 4.91265               0.69315 6.74382    1.38629   \n",
       "서울특별시 광진구 광장동  106   8.86329 4.91265               0.69315 6.11545    1.38629   \n",
       "서울특별시 광진구 광장동  107   8.86329 4.91265               0.69315 6.00117    1.38629   \n",
       "...                      ...     ...                   ...     ...        ...   \n",
       "서울특별시 광진구 화양동  95-5 10.86601 3.78419               3.33220 5.02388    1.38629   \n",
       "서울특별시 광진구 화양동  96-2 10.86601 3.78419               3.43399 5.10595    1.38629   \n",
       "서울특별시 광진구 화양동  97   10.86601 3.78419               3.33220 5.23644    1.38629   \n",
       "서울특별시 광진구 화양동  98-1 10.86601 3.78419               3.33220 5.70044    1.38629   \n",
       "서울특별시 광진구 화양동  99   10.86601 3.78419               3.25810 5.75257    1.38629   \n",
       "\n",
       "                     공시지가(원/면적)  역과의최단거리  반경 1km 이내 주차장수  \n",
       "지번주소                                                      \n",
       "서울특별시 광진구 광장동  102     15.65986  7.04229         3.71357  \n",
       "서울특별시 광진구 광장동  104     15.44416  7.06133         3.71357  \n",
       "서울특별시 광진구 광장동  105     15.46455  6.97354         3.71357  \n",
       "서울특별시 광진구 광장동  106     15.44416  6.94505         3.71357  \n",
       "서울특별시 광진구 광장동  107     15.57216  6.91870         3.73767  \n",
       "...                         ...      ...             ...  \n",
       "서울특별시 광진구 화양동  95-5    15.28477  6.44572         4.31749  \n",
       "서울특별시 광진구 화양동  96-2    15.28477  6.44572         4.31749  \n",
       "서울특별시 광진구 화양동  97      15.44377  6.45047         4.30407  \n",
       "서울특별시 광진구 화양동  98-1    15.44377  6.47235         4.29046  \n",
       "서울특별시 광진구 화양동  99      15.39387  6.52209         4.30407  \n",
       "\n",
       "[21657 rows x 8 columns]"
      ]
     },
     "execution_count": 158,
     "metadata": {},
     "output_type": "execute_result"
    }
   ],
   "source": [
    "import numpy as np\n",
    "import pandas as pd\n",
    "log_df = pd.read_excel(\"./data/preprocessed_광진구_데이터프레임.xlsx\",index_col=0)\n",
    "log_df"
   ]
  },
  {
   "attachments": {},
   "cell_type": "markdown",
   "metadata": {},
   "source": [
    "### UMAP"
   ]
  },
  {
   "cell_type": "code",
   "execution_count": 208,
   "metadata": {},
   "outputs": [],
   "source": [
    "def get_umap(df, n_neighbors, min_dist):\n",
    "    '''\n",
    "    n_neighbors가 작을수록 지역적 구조가 강조됨\n",
    "    min_dist: 포인트 간의 거리 지정하기\n",
    "    '''\n",
    "    import umap\n",
    "    clustering_embedding = umap.UMAP(\n",
    "    n_neighbors=n_neighbors, # 5~ 50 기본값 15\n",
    "    min_dist=min_dist, # 0.001~ 0.5 기본값 0.1\n",
    "    n_components=2,\n",
    "    random_state=42,\n",
    "    metric = 'cosine'\n",
    "    ).fit_transform(df.values)\n",
    "    return clustering_embedding # 100, 0.005"
   ]
  },
  {
   "attachments": {},
   "cell_type": "markdown",
   "metadata": {},
   "source": [
    "### HDBSCAN 클러스터링"
   ]
  },
  {
   "cell_type": "code",
   "execution_count": 164,
   "metadata": {},
   "outputs": [],
   "source": [
    "def get_hdbscan(embedding, min_cluster_size, min_samples):\n",
    "    '''\n",
    "    min_cluster_size(군집의 최소 크기)와 min_samples(노이즈로 간주되는 최소 점의 수)만 인자로 받아서\n",
    "    hdbscan진행하기\n",
    "    '''\n",
    "    import hdbscan\n",
    "    labels = hdbscan.HDBSCAN(\n",
    "    algorithm='best', alpha=1.0, approx_min_span_tree=True,\n",
    "    gen_min_span_tree=True, leaf_size=40,\n",
    "    metric='euclidean', min_cluster_size=min_cluster_size, min_samples=min_samples\n",
    "    ).fit_predict(embedding)\n",
    "    return labels # 800~1000"
   ]
  },
  {
   "cell_type": "code",
   "execution_count": 218,
   "metadata": {},
   "outputs": [],
   "source": [
    "def get_all_cluster(embedding,labels):\n",
    "    # 노이즈 포인트 다 포함\n",
    "    plt.scatter(embedding[:, 0], embedding[:, 1],\n",
    "                c=labels,s=0.1, cmap='Spectral')\n",
    "    plt.show()\n",
    "def get_noise_cluster(embedding,labels):\n",
    "    # 노이즈 포인트만\n",
    "    clustered = (labels >= 0)\n",
    "    plt.scatter(embedding[~clustered, 0],\n",
    "                embedding[~clustered, 1],\n",
    "                color=(0.5, 0.5, 0.5),\n",
    "                s=0.1,\n",
    "                alpha=0.5)\n",
    "    plt.show()\n",
    "def get_cluster(embedding,labels):\n",
    "    # 노이즈 포인트 제외\n",
    "    clustered = (labels >= 0)\n",
    "    plt.scatter(embedding[clustered, 0],\n",
    "                embedding[clustered, 1],\n",
    "                c=labels[clustered],\n",
    "                s=0.1,\n",
    "                cmap='Spectral')\n",
    "    plt.show()"
   ]
  },
  {
   "cell_type": "code",
   "execution_count": 49,
   "metadata": {},
   "outputs": [],
   "source": [
    "pd.options.display.float_format = '{:.5f}'.format"
   ]
  },
  {
   "attachments": {},
   "cell_type": "markdown",
   "metadata": {},
   "source": [
    "### MinMax 스케일링 해보기"
   ]
  },
  {
   "cell_type": "code",
   "execution_count": 62,
   "metadata": {},
   "outputs": [],
   "source": [
    "def get_scaler(df):\n",
    "    from sklearn.preprocessing import MinMaxScaler\n",
    "    scaler = MinMaxScaler()\n",
    "    scaled_df = scaler.fit_transform(df.values)\n",
    "    scaled_df = pd.DataFrame(data=scaled_df, index=df.index, columns=df.columns)\n",
    "    return scaled_df"
   ]
  },
  {
   "attachments": {},
   "cell_type": "markdown",
   "metadata": {},
   "source": [
    "### 로버스트 스케일러 해보기"
   ]
  },
  {
   "cell_type": "code",
   "execution_count": 95,
   "metadata": {},
   "outputs": [],
   "source": [
    "def get_robust_scaler(df):\n",
    "    from sklearn.preprocessing import RobustScaler\n",
    "    scaler = RobustScaler()\n",
    "    scaled_df = scaler.fit_transform(df.values)\n",
    "    scaled_df = pd.DataFrame(data=scaled_df, index=df.index, columns=df.columns)\n",
    "    return scaled_df"
   ]
  },
  {
   "attachments": {},
   "cell_type": "markdown",
   "metadata": {},
   "source": [
    "### 군집화 평가 점수 "
   ]
  },
  {
   "attachments": {},
   "cell_type": "markdown",
   "metadata": {},
   "source": [
    "#### 군집화 평가 지수를 추출하기 위한 데이터프레임 만들기"
   ]
  },
  {
   "cell_type": "code",
   "execution_count": 50,
   "metadata": {},
   "outputs": [],
   "source": [
    "def get_umap_df(df,embedding,labels):\n",
    "    '''\n",
    "    embedding: umap을 사용한 결과\n",
    "    df: 기존 데이터프레임\n",
    "    을 받아와서 umap 결과와 라벨을 받아오는 데이터프레임을 리턴하는 함수입니다.\n",
    "    '''\n",
    "    umap_df = pd.DataFrame(embedding, columns=['UMAP1', 'UMAP2'], index=df.index)\n",
    "    umap_df[\"label\"] = labels\n",
    "    return umap_df"
   ]
  },
  {
   "attachments": {},
   "cell_type": "markdown",
   "metadata": {},
   "source": [
    "#### 1) 노이즈 제거 클러스터링 결과 (get_without_noise_optics)\n",
    "- 실루엣 점수 : 클러스터의 밀집도와 분리도를 모두 고려하여 평가하는 지표\n",
    "- 범위는 -1 ~ 1\n",
    "- 1에 가까울수록 좋은 군집화 결과를 나타냄"
   ]
  },
  {
   "cell_type": "code",
   "execution_count": 53,
   "metadata": {},
   "outputs": [],
   "source": [
    "def silhouette(clustering_result) : \n",
    "    from sklearn.metrics import silhouette_score\n",
    "\n",
    "    # 클러스터링 결과에서 노이즈 포인트 제외한 데이터와 클러스터 레이 추출\n",
    "    X = clustering_result[['UMAP1', 'UMAP2']]\n",
    "    labels = clustering_result['label']\n",
    "\n",
    "    # 실루엣 점수 계산\n",
    "    silhouette_avg = silhouette_score(X, labels)\n",
    "\n",
    "    return silhouette_avg"
   ]
  },
  {
   "attachments": {},
   "cell_type": "markdown",
   "metadata": {},
   "source": [
    "#### Dunn 지수 (군집화의 일관성) :\n",
    "\n",
    "- 군집 내의 응집도와 군집 간 분리도를 모두 고려하여 군집화의 품질을 평가\n",
    "- 클러스터 내 거리와 클러스터 간 거리의 비율을 이용해 계산\n",
    "- Dunn 지수: Dunn 지수가 0.7 이상 = 잘 분리된 클러스터가 형성 => 클러스터링 결과가 좋다고 평가\n",
    "                    = Dunn 지수가 작다는 것은 각 클러스터 간의 거리가 가깝지 않다"
   ]
  },
  {
   "cell_type": "code",
   "execution_count": 56,
   "metadata": {},
   "outputs": [],
   "source": [
    "# Dunn 지수 계산 함수\n",
    "def dunn(clustering_result):\n",
    "    from sklearn.metrics import davies_bouldin_score\n",
    "    from sklearn.neighbors import DistanceMetric\n",
    "    dist = DistanceMetric.get_metric('euclidean')\n",
    "    labels = clustering_result['label']\n",
    "    clusters = np.unique(labels)\n",
    "    centroids = [np.mean(clustering_result.loc[labels==i, ['UMAP1', 'UMAP2']], axis=0) for i in clusters]\n",
    "    max_intracluster_distances = [np.max(dist.pairwise(clustering_result.loc[labels==i, ['UMAP1', 'UMAP2']])) for i in clusters]\n",
    "    min_intercluster_distances = []\n",
    "    for i, c1 in enumerate(centroids):\n",
    "        for j, c2 in enumerate(centroids):\n",
    "            if i < j:\n",
    "                dist_ij = dist.pairwise([c1, c2])[0][1]\n",
    "                min_intercluster_distances.append(dist_ij)\n",
    "    return np.min(min_intercluster_distances) / np.max(max_intracluster_distances)"
   ]
  },
  {
   "attachments": {},
   "cell_type": "markdown",
   "metadata": {},
   "source": [
    "#### Calinski-Harabasz 지수 (군집화의 분리력) :\n",
    "\n",
    "- 군집화 결과가 실제로 잘 분리되어 있는지를 판단하는 지표\n",
    "- 각 군집의 분산이 커질수록, 각 군집 간의 거리가 멀어질수록 높은 값"
   ]
  },
  {
   "cell_type": "code",
   "execution_count": 59,
   "metadata": {},
   "outputs": [],
   "source": [
    "# Calinski-Harabasz 지수 계산 함수\n",
    "def calinski_harabasz(clustering_result):\n",
    "    from sklearn.metrics import calinski_harabasz_score\n",
    "    labels = clustering_result['label']\n",
    "    return calinski_harabasz_score(clustering_result[['UMAP1', 'UMAP2']], labels)"
   ]
  }
 ],
 "metadata": {
  "kernelspec": {
   "display_name": "Python 3",
   "language": "python",
   "name": "python3"
  },
  "language_info": {
   "codemirror_mode": {
    "name": "ipython",
    "version": 3
   },
   "file_extension": ".py",
   "mimetype": "text/x-python",
   "name": "python",
   "nbconvert_exporter": "python",
   "pygments_lexer": "ipython3",
   "version": "3.9.13"
  },
  "orig_nbformat": 4
 },
 "nbformat": 4,
 "nbformat_minor": 2
}
